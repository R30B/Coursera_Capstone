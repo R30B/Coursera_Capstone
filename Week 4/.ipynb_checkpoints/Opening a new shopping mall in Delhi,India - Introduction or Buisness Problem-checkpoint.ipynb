{
 "cells": [
  {
   "cell_type": "markdown",
   "metadata": {},
   "source": [
    "# Opening a new shopping mall in Delhi,India | Introduction/Buisness Problem"
   ]
  },
  {
   "cell_type": "markdown",
   "metadata": {},
   "source": [
    "## Introduction:"
   ]
  },
  {
   "cell_type": "markdown",
   "metadata": {},
   "source": [
    "The purpose of this project is to find the best place for shopping mall in Delhi, India. It will help property developer to make a smart and efficient decision on choosing the area in Delhi.\n",
    "\n",
    "This project aims to find the best place by initially finding the location of the neighbourhoods and then finding the venue using the API’s and then doing the analysis of shopping malls in each neighbourhood.\n",
    " "
   ]
  },
  {
   "cell_type": "markdown",
   "metadata": {},
   "source": [
    "## Problem that we are trying to solve:"
   ]
  },
  {
   "cell_type": "markdown",
   "metadata": {},
   "source": [
    "To find the place that has having less shopping malls in order to attract people in nearby areas and also there is less competition"
   ]
  },
  {
   "cell_type": "markdown",
   "metadata": {},
   "source": [
    "## Location"
   ]
  },
  {
   "cell_type": "markdown",
   "metadata": {},
   "source": [
    "The location that is chosen is Delhi which is a capital of India and different people from different cultures lives there and it ranks second largest GDP per capita in India due to which Building shopping malls in this state will be more profitable"
   ]
  },
  {
   "cell_type": "markdown",
   "metadata": {},
   "source": [
    "## Foursquare API"
   ]
  },
  {
   "cell_type": "markdown",
   "metadata": {},
   "source": [
    "Foursquare is used for capturing the information the venues around the neighbourhood od Delhi"
   ]
  },
  {
   "cell_type": "markdown",
   "metadata": {},
   "source": [
    "## Algorithms"
   ]
  },
  {
   "cell_type": "markdown",
   "metadata": {},
   "source": [
    "K means Clustering will be used for this project to find the place for shopping malls"
   ]
  },
  {
   "cell_type": "markdown",
   "metadata": {},
   "source": [
    "## Libraries Used"
   ]
  },
  {
   "cell_type": "markdown",
   "metadata": {},
   "source": [
    "Pandas: Best library for handling the dataframe.\n",
    "\n",
    "BeautifulSoup: Best library for web scrapping in python.\n",
    "\n",
    "Matplotlib: plotting and visualizing the data in graph.\n",
    "\n",
    "Folium: For visualizing the data on the map.\n",
    "\n",
    "Geopy: To determine the location of the places.\n",
    "\n",
    "Sklearn: For using k means clustering algorithm.\n",
    "\n",
    "Json: to handle json files.\n"
   ]
  }
 ],
 "metadata": {
  "kernelspec": {
   "display_name": "Python 3",
   "language": "python",
   "name": "python3"
  },
  "language_info": {
   "codemirror_mode": {
    "name": "ipython",
    "version": 3
   },
   "file_extension": ".py",
   "mimetype": "text/x-python",
   "name": "python",
   "nbconvert_exporter": "python",
   "pygments_lexer": "ipython3",
   "version": "3.7.7"
  }
 },
 "nbformat": 4,
 "nbformat_minor": 4
}
